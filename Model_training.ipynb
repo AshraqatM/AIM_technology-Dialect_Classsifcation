{
  "nbformat": 4,
  "nbformat_minor": 0,
  "metadata": {
    "colab": {
      "name": "Model training.ipynb",
      "provenance": []
    },
    "kernelspec": {
      "name": "python3",
      "display_name": "Python 3"
    },
    "language_info": {
      "name": "python"
    }
  },
  "cells": [
    {
      "cell_type": "markdown",
      "metadata": {
        "id": "YRfNScZgOGK9"
      },
      "source": [
        "**Importing libraries**"
      ]
    },
    {
      "cell_type": "code",
      "execution_count": null,
      "metadata": {
        "id": "hy2DG2cwaNYq"
      },
      "outputs": [],
      "source": [
        "import numpy as np\n",
        "import pandas as pd\n",
        "import os\n",
        "import re\n",
        "import string\n",
        "import pickle\n",
        "from string import digits"
      ]
    },
    {
      "cell_type": "markdown",
      "metadata": {
        "id": "Bjfna2S7OMoh"
      },
      "source": [
        "**Reading datasets from google drive**"
      ]
    },
    {
      "cell_type": "markdown",
      "source": [
        "Shared drive link: https://drive.google.com/drive/folders/1P396v2CjxNOZbUV69mpZIgLM-qzz59Dn?usp=sharing\n",
        "\n",
        "File will be found in shared with me, right click on the file and click add shortcut to drive.\n",
        "\n",
        "Note that files are not shared in Github since the new created dataset is larger than 25MB."
      ],
      "metadata": {
        "id": "ogfz7lyo3YEg"
      }
    },
    {
      "cell_type": "code",
      "execution_count": null,
      "metadata": {
        "colab": {
          "base_uri": "https://localhost:8080/"
        },
        "outputId": "72ed0944-eb7b-4c45-e0bc-a2436f80db92",
        "id": "YGJ6Vpi44Kvv"
      },
      "outputs": [
        {
          "output_type": "stream",
          "name": "stdout",
          "text": [
            "Mounted at /content/drive\n"
          ]
        }
      ],
      "source": [
        "from google.colab import drive\n",
        "drive.mount('/content/drive')\n",
        "os.chdir('/content/drive/MyDrive/AIM tech')"
      ]
    },
    {
      "cell_type": "markdown",
      "source": [
        "# Read cleaned dataset"
      ],
      "metadata": {
        "id": "a-3SE1X26EeU"
      }
    },
    {
      "cell_type": "code",
      "source": [
        "data = pd.read_csv('data_cleaned.csv',lineterminator='\\n')\n",
        "data"
      ],
      "metadata": {
        "colab": {
          "base_uri": "https://localhost:8080/",
          "height": 423
        },
        "id": "InsvJ9HI6IMq",
        "outputId": "85019f67-c832-4ff3-8a42-5d1ed135eb7a"
      },
      "execution_count": null,
      "outputs": [
        {
          "output_type": "execute_result",
          "data": {
            "text/plain": [
              "        Unnamed: 0                   id dialect  \\\n",
              "0                0  1175358310087892992      IQ   \n",
              "1                1  1175416117793349632      IQ   \n",
              "2                2  1175450108898565888      IQ   \n",
              "3                3  1175471073770573824      IQ   \n",
              "4                4  1175496913145217024      IQ   \n",
              "...            ...                  ...     ...   \n",
              "458192      458192  1019484980282580992      BH   \n",
              "458193      458193  1021083283709407232      BH   \n",
              "458194      458194  1017477537889431552      BH   \n",
              "458195      458195  1022430374696239232      BH   \n",
              "458196      458196  1022409931029458944      BH   \n",
              "\n",
              "                                                     text  \n",
              "0                              ['نهايه', 'ينتفض', 'يغير']  \n",
              "1       ['يعني', 'محسوب', 'علي', 'البشر', 'حيونه', 'وح...  \n",
              "2                              ['مبين', 'كلامه', 'خليجي']  \n",
              "3                  ['يسلملي', 'مرورك', 'وروحك', 'الحلوه']  \n",
              "4                         ['وين', 'الغيبه', 'اخ', 'محمد']  \n",
              "...                                                   ...  \n",
              "458192                 ['مبسوطين', 'منك', 'الي', 'باسطا']  \n",
              "458193                     ['ه', 'ماينده', 'ابش', 'يختي']  \n",
              "458194  ['شو', 'عملنا', 'حنا', 'تهربي', 'منا', 'احنا',...  \n",
              "458195                ['ه', 'يبارك', 'فيها', 'وبالعافيه']  \n",
              "458196                 ['سحله', 'ضيفي', 'بتطلع', 'سحليه']  \n",
              "\n",
              "[458197 rows x 4 columns]"
            ],
            "text/html": [
              "\n",
              "  <div id=\"df-1b6e27b8-98ff-4346-8fef-79da35411ff7\">\n",
              "    <div class=\"colab-df-container\">\n",
              "      <div>\n",
              "<style scoped>\n",
              "    .dataframe tbody tr th:only-of-type {\n",
              "        vertical-align: middle;\n",
              "    }\n",
              "\n",
              "    .dataframe tbody tr th {\n",
              "        vertical-align: top;\n",
              "    }\n",
              "\n",
              "    .dataframe thead th {\n",
              "        text-align: right;\n",
              "    }\n",
              "</style>\n",
              "<table border=\"1\" class=\"dataframe\">\n",
              "  <thead>\n",
              "    <tr style=\"text-align: right;\">\n",
              "      <th></th>\n",
              "      <th>Unnamed: 0</th>\n",
              "      <th>id</th>\n",
              "      <th>dialect</th>\n",
              "      <th>text</th>\n",
              "    </tr>\n",
              "  </thead>\n",
              "  <tbody>\n",
              "    <tr>\n",
              "      <th>0</th>\n",
              "      <td>0</td>\n",
              "      <td>1175358310087892992</td>\n",
              "      <td>IQ</td>\n",
              "      <td>['نهايه', 'ينتفض', 'يغير']</td>\n",
              "    </tr>\n",
              "    <tr>\n",
              "      <th>1</th>\n",
              "      <td>1</td>\n",
              "      <td>1175416117793349632</td>\n",
              "      <td>IQ</td>\n",
              "      <td>['يعني', 'محسوب', 'علي', 'البشر', 'حيونه', 'وح...</td>\n",
              "    </tr>\n",
              "    <tr>\n",
              "      <th>2</th>\n",
              "      <td>2</td>\n",
              "      <td>1175450108898565888</td>\n",
              "      <td>IQ</td>\n",
              "      <td>['مبين', 'كلامه', 'خليجي']</td>\n",
              "    </tr>\n",
              "    <tr>\n",
              "      <th>3</th>\n",
              "      <td>3</td>\n",
              "      <td>1175471073770573824</td>\n",
              "      <td>IQ</td>\n",
              "      <td>['يسلملي', 'مرورك', 'وروحك', 'الحلوه']</td>\n",
              "    </tr>\n",
              "    <tr>\n",
              "      <th>4</th>\n",
              "      <td>4</td>\n",
              "      <td>1175496913145217024</td>\n",
              "      <td>IQ</td>\n",
              "      <td>['وين', 'الغيبه', 'اخ', 'محمد']</td>\n",
              "    </tr>\n",
              "    <tr>\n",
              "      <th>...</th>\n",
              "      <td>...</td>\n",
              "      <td>...</td>\n",
              "      <td>...</td>\n",
              "      <td>...</td>\n",
              "    </tr>\n",
              "    <tr>\n",
              "      <th>458192</th>\n",
              "      <td>458192</td>\n",
              "      <td>1019484980282580992</td>\n",
              "      <td>BH</td>\n",
              "      <td>['مبسوطين', 'منك', 'الي', 'باسطا']</td>\n",
              "    </tr>\n",
              "    <tr>\n",
              "      <th>458193</th>\n",
              "      <td>458193</td>\n",
              "      <td>1021083283709407232</td>\n",
              "      <td>BH</td>\n",
              "      <td>['ه', 'ماينده', 'ابش', 'يختي']</td>\n",
              "    </tr>\n",
              "    <tr>\n",
              "      <th>458194</th>\n",
              "      <td>458194</td>\n",
              "      <td>1017477537889431552</td>\n",
              "      <td>BH</td>\n",
              "      <td>['شو', 'عملنا', 'حنا', 'تهربي', 'منا', 'احنا',...</td>\n",
              "    </tr>\n",
              "    <tr>\n",
              "      <th>458195</th>\n",
              "      <td>458195</td>\n",
              "      <td>1022430374696239232</td>\n",
              "      <td>BH</td>\n",
              "      <td>['ه', 'يبارك', 'فيها', 'وبالعافيه']</td>\n",
              "    </tr>\n",
              "    <tr>\n",
              "      <th>458196</th>\n",
              "      <td>458196</td>\n",
              "      <td>1022409931029458944</td>\n",
              "      <td>BH</td>\n",
              "      <td>['سحله', 'ضيفي', 'بتطلع', 'سحليه']</td>\n",
              "    </tr>\n",
              "  </tbody>\n",
              "</table>\n",
              "<p>458197 rows × 4 columns</p>\n",
              "</div>\n",
              "      <button class=\"colab-df-convert\" onclick=\"convertToInteractive('df-1b6e27b8-98ff-4346-8fef-79da35411ff7')\"\n",
              "              title=\"Convert this dataframe to an interactive table.\"\n",
              "              style=\"display:none;\">\n",
              "        \n",
              "  <svg xmlns=\"http://www.w3.org/2000/svg\" height=\"24px\"viewBox=\"0 0 24 24\"\n",
              "       width=\"24px\">\n",
              "    <path d=\"M0 0h24v24H0V0z\" fill=\"none\"/>\n",
              "    <path d=\"M18.56 5.44l.94 2.06.94-2.06 2.06-.94-2.06-.94-.94-2.06-.94 2.06-2.06.94zm-11 1L8.5 8.5l.94-2.06 2.06-.94-2.06-.94L8.5 2.5l-.94 2.06-2.06.94zm10 10l.94 2.06.94-2.06 2.06-.94-2.06-.94-.94-2.06-.94 2.06-2.06.94z\"/><path d=\"M17.41 7.96l-1.37-1.37c-.4-.4-.92-.59-1.43-.59-.52 0-1.04.2-1.43.59L10.3 9.45l-7.72 7.72c-.78.78-.78 2.05 0 2.83L4 21.41c.39.39.9.59 1.41.59.51 0 1.02-.2 1.41-.59l7.78-7.78 2.81-2.81c.8-.78.8-2.07 0-2.86zM5.41 20L4 18.59l7.72-7.72 1.47 1.35L5.41 20z\"/>\n",
              "  </svg>\n",
              "      </button>\n",
              "      \n",
              "  <style>\n",
              "    .colab-df-container {\n",
              "      display:flex;\n",
              "      flex-wrap:wrap;\n",
              "      gap: 12px;\n",
              "    }\n",
              "\n",
              "    .colab-df-convert {\n",
              "      background-color: #E8F0FE;\n",
              "      border: none;\n",
              "      border-radius: 50%;\n",
              "      cursor: pointer;\n",
              "      display: none;\n",
              "      fill: #1967D2;\n",
              "      height: 32px;\n",
              "      padding: 0 0 0 0;\n",
              "      width: 32px;\n",
              "    }\n",
              "\n",
              "    .colab-df-convert:hover {\n",
              "      background-color: #E2EBFA;\n",
              "      box-shadow: 0px 1px 2px rgba(60, 64, 67, 0.3), 0px 1px 3px 1px rgba(60, 64, 67, 0.15);\n",
              "      fill: #174EA6;\n",
              "    }\n",
              "\n",
              "    [theme=dark] .colab-df-convert {\n",
              "      background-color: #3B4455;\n",
              "      fill: #D2E3FC;\n",
              "    }\n",
              "\n",
              "    [theme=dark] .colab-df-convert:hover {\n",
              "      background-color: #434B5C;\n",
              "      box-shadow: 0px 1px 3px 1px rgba(0, 0, 0, 0.15);\n",
              "      filter: drop-shadow(0px 1px 2px rgba(0, 0, 0, 0.3));\n",
              "      fill: #FFFFFF;\n",
              "    }\n",
              "  </style>\n",
              "\n",
              "      <script>\n",
              "        const buttonEl =\n",
              "          document.querySelector('#df-1b6e27b8-98ff-4346-8fef-79da35411ff7 button.colab-df-convert');\n",
              "        buttonEl.style.display =\n",
              "          google.colab.kernel.accessAllowed ? 'block' : 'none';\n",
              "\n",
              "        async function convertToInteractive(key) {\n",
              "          const element = document.querySelector('#df-1b6e27b8-98ff-4346-8fef-79da35411ff7');\n",
              "          const dataTable =\n",
              "            await google.colab.kernel.invokeFunction('convertToInteractive',\n",
              "                                                     [key], {});\n",
              "          if (!dataTable) return;\n",
              "\n",
              "          const docLinkHtml = 'Like what you see? Visit the ' +\n",
              "            '<a target=\"_blank\" href=https://colab.research.google.com/notebooks/data_table.ipynb>data table notebook</a>'\n",
              "            + ' to learn more about interactive tables.';\n",
              "          element.innerHTML = '';\n",
              "          dataTable['output_type'] = 'display_data';\n",
              "          await google.colab.output.renderOutput(dataTable, element);\n",
              "          const docLink = document.createElement('div');\n",
              "          docLink.innerHTML = docLinkHtml;\n",
              "          element.appendChild(docLink);\n",
              "        }\n",
              "      </script>\n",
              "    </div>\n",
              "  </div>\n",
              "  "
            ]
          },
          "metadata": {},
          "execution_count": 3
        }
      ]
    },
    {
      "cell_type": "markdown",
      "source": [
        "# Vectorization"
      ],
      "metadata": {
        "id": "eq4x_tLKu506"
      }
    },
    {
      "cell_type": "code",
      "source": [
        "from sklearn.feature_extraction.text import TfidfVectorizer, CountVectorizer\n",
        "\n",
        "X = data['text']\n",
        "y = data['dialect']\n",
        "\n",
        "vectorizer = TfidfVectorizer(max_df=0.3, min_df=200,ngram_range=(1, 2), norm=\"l2\")\n",
        "\n",
        "#Save vectorizer    \n",
        "X_vec = vectorizer.fit(X.astype('str'))\n",
        "pickle.dump(X_vec, open('tfidf_vec.pkl', 'wb'))\n",
        "\n",
        "X_vec"
      ],
      "metadata": {
        "colab": {
          "base_uri": "https://localhost:8080/"
        },
        "id": "uW2Eqx3Mu7-3",
        "outputId": "af19f11b-9021-449a-837f-0f6b173e8076"
      },
      "execution_count": null,
      "outputs": [
        {
          "output_type": "execute_result",
          "data": {
            "text/plain": [
              "TfidfVectorizer(max_df=0.3, min_df=200, ngram_range=(1, 2))"
            ]
          },
          "metadata": {},
          "execution_count": 4
        }
      ]
    },
    {
      "cell_type": "code",
      "source": [
        "X_vec= vectorizer.fit_transform(X.astype('str'))"
      ],
      "metadata": {
        "id": "3TkP7L5J6qug"
      },
      "execution_count": null,
      "outputs": []
    },
    {
      "cell_type": "code",
      "source": [
        "from sklearn import preprocessing\n",
        "le =preprocessing.LabelEncoder()\n",
        "y = le.fit_transform(y)\n",
        "y"
      ],
      "metadata": {
        "id": "0fD3MwYywhEZ",
        "colab": {
          "base_uri": "https://localhost:8080/"
        },
        "outputId": "9036b28b-aa1f-4420-b040-594a09d8bc74"
      },
      "execution_count": null,
      "outputs": [
        {
          "output_type": "execute_result",
          "data": {
            "text/plain": [
              "array([4, 4, 4, ..., 1, 1, 1])"
            ]
          },
          "metadata": {},
          "execution_count": 6
        }
      ]
    },
    {
      "cell_type": "markdown",
      "source": [
        "Train Test split"
      ],
      "metadata": {
        "id": "Xz11spXQwlPz"
      }
    },
    {
      "cell_type": "code",
      "source": [
        "from sklearn.model_selection import train_test_split\n",
        "\n",
        "X_train, X_test,y_train,y_test=train_test_split(X_vec,y,test_size=0.25,random_state=1,shuffle=True)\n",
        "\n",
        "print(X_train.shape)\n",
        "print(X_test.shape)"
      ],
      "metadata": {
        "colab": {
          "base_uri": "https://localhost:8080/"
        },
        "id": "ssddfhyvwjwN",
        "outputId": "edf54bd9-13f6-4402-d276-d60538e5ee55"
      },
      "execution_count": null,
      "outputs": [
        {
          "output_type": "stream",
          "name": "stdout",
          "text": [
            "(343647, 3413)\n",
            "(114550, 3413)\n"
          ]
        }
      ]
    },
    {
      "cell_type": "markdown",
      "source": [
        "# Machine Learning Model"
      ],
      "metadata": {
        "id": "_5xtgkA_wUUe"
      }
    },
    {
      "cell_type": "code",
      "source": [
        "from sklearn.svm import SVC\n",
        "from sklearn.tree import DecisionTreeClassifier\n",
        "from sklearn.metrics import classification_report\n",
        "from sklearn.multiclass import OneVsRestClassifier\n",
        "from sklearn.ensemble import BaggingClassifier, RandomForestClassifier\n",
        "                                                                                          \n",
        "clf = SVC()\n",
        "#clf = RandomForestClassifier()\n",
        "\n",
        "#clf = LinearSVC(random_state=1)\n",
        "#clf = LogisticRegression(solver=\"sag\", random_state=1)\n",
        "#clf = RandomForestClassifier(random_state=1),\n",
        "#clf = XGBClassifier(random_state=1),\n",
        "#clf = MLPClassifier(random_state=1, solver=\"adam\", hidden_layer_sizes=(12, 12, 12), activation=\"relu\", early_stopping=True, n_iter_no_change=1)\n",
        "\n",
        "clf.fit(X_train, y_train)\n",
        "y_pred = clf.predict(X_test)\n",
        "\n",
        "# Summarize results\n",
        "print(classification_report(y_test, y_pred))"
      ],
      "metadata": {
        "id": "rew5R2atwcLB"
      },
      "execution_count": null,
      "outputs": []
    },
    {
      "cell_type": "markdown",
      "source": [
        "Save model"
      ],
      "metadata": {
        "id": "TdVxMvzlwr-i"
      }
    },
    {
      "cell_type": "code",
      "source": [
        "#Save model\n",
        "import pickle\n",
        "pickle.dump(clf, open('ml_model.pkl', 'wb'))"
      ],
      "metadata": {
        "id": "PUSCTJlCwtYv"
      },
      "execution_count": null,
      "outputs": []
    },
    {
      "cell_type": "markdown",
      "source": [
        "# Deep Learning Model"
      ],
      "metadata": {
        "id": "MRek2kJUwXEh"
      }
    },
    {
      "cell_type": "markdown",
      "metadata": {
        "id": "ZI4uJomre8KV"
      },
      "source": [
        "Building the model"
      ]
    },
    {
      "cell_type": "code",
      "execution_count": null,
      "metadata": {
        "colab": {
          "base_uri": "https://localhost:8080/"
        },
        "id": "VQyD0e6rbqAh",
        "outputId": "5bdd5128-ab81-492b-d0fb-bebe1bce6530"
      },
      "outputs": [
        {
          "output_type": "stream",
          "name": "stdout",
          "text": [
            "Model: \"sequential_1\"\n",
            "_________________________________________________________________\n",
            " Layer (type)                Output Shape              Param #   \n",
            "=================================================================\n",
            " dense_3 (Dense)             (None, 32)                102272    \n",
            "                                                                 \n",
            " batch_normalization_2 (Batc  (None, 32)               128       \n",
            " hNormalization)                                                 \n",
            "                                                                 \n",
            " activation_2 (Activation)   (None, 32)                0         \n",
            "                                                                 \n",
            " dense_4 (Dense)             (None, 32)                1056      \n",
            "                                                                 \n",
            " batch_normalization_3 (Batc  (None, 32)               128       \n",
            " hNormalization)                                                 \n",
            "                                                                 \n",
            " activation_3 (Activation)   (None, 32)                0         \n",
            "                                                                 \n",
            " dense_5 (Dense)             (None, 18)                594       \n",
            "                                                                 \n",
            "=================================================================\n",
            "Total params: 104,178\n",
            "Trainable params: 104,050\n",
            "Non-trainable params: 128\n",
            "_________________________________________________________________\n"
          ]
        }
      ],
      "source": [
        "import tensorflow as tf\n",
        "from tensorflow import keras\n",
        "from tensorflow.keras import layers\n",
        "from numpy.random import seed\n",
        "\n",
        "#setting seeds to get reproducible results\n",
        "seed(42)\n",
        "tf.random.set_seed(101)\n",
        "\n",
        "model = keras.Sequential() \n",
        "model.add(layers.Dense(32, input_dim=3195))\n",
        "model.add(layers.BatchNormalization())\n",
        "model.add(layers.Activation('relu'))\n",
        "#model.add(layers.Dropout(0.5))\n",
        "\n",
        "model.add(layers.Dense(32))\n",
        "model.add(layers.BatchNormalization())\n",
        "model.add(layers.Activation('relu'))\n",
        "#model.add(layers.Dropout(0.5))\n",
        "\n",
        "model.add(layers.Dense(18, activation='softmax'))\n",
        "#model.add(layers.Dense(1))\n",
        "#model.add(layers.BatchNormalization()) \n",
        "\n",
        "model.summary()"
      ]
    },
    {
      "cell_type": "markdown",
      "metadata": {
        "id": "C7g1Tc96e04D"
      },
      "source": [
        "Training the model"
      ]
    },
    {
      "cell_type": "code",
      "execution_count": null,
      "metadata": {
        "colab": {
          "base_uri": "https://localhost:8080/"
        },
        "id": "PcMIiYT_e17L",
        "outputId": "cf602ef5-63fd-46b5-a540-612df8c37694"
      },
      "outputs": [
        {
          "output_type": "stream",
          "name": "stdout",
          "text": [
            "Epoch 1/20\n"
          ]
        },
        {
          "output_type": "stream",
          "name": "stderr",
          "text": [
            "/usr/local/lib/python3.7/dist-packages/tensorflow/python/framework/indexed_slices.py:446: UserWarning: Converting sparse IndexedSlices(IndexedSlices(indices=Tensor(\"gradient_tape/sequential_1/dense_3/embedding_lookup_sparse/Reshape_1:0\", shape=(None,), dtype=int32), values=Tensor(\"gradient_tape/sequential_1/dense_3/embedding_lookup_sparse/Reshape:0\", shape=(None, 32), dtype=float32), dense_shape=Tensor(\"gradient_tape/sequential_1/dense_3/embedding_lookup_sparse/Cast:0\", shape=(2,), dtype=int32))) to a dense Tensor of unknown shape. This may consume a large amount of memory.\n",
            "  \"shape. This may consume a large amount of memory.\" % value)\n"
          ]
        },
        {
          "output_type": "stream",
          "name": "stdout",
          "text": [
            "28638/28638 [==============================] - 80s 3ms/step - loss: 2.1910 - accuracy: 0.3226\n",
            "Epoch 2/20\n",
            "28638/28638 [==============================] - 85s 3ms/step - loss: 2.0593 - accuracy: 0.3640\n",
            "Epoch 3/20\n",
            "28638/28638 [==============================] - 84s 3ms/step - loss: 2.0276 - accuracy: 0.3733\n",
            "Epoch 4/20\n",
            "28638/28638 [==============================] - 85s 3ms/step - loss: 2.0127 - accuracy: 0.3780\n",
            "Epoch 5/20\n",
            "28638/28638 [==============================] - 85s 3ms/step - loss: 2.0005 - accuracy: 0.3821\n",
            "Epoch 6/20\n",
            "28638/28638 [==============================] - 89s 3ms/step - loss: 1.9950 - accuracy: 0.3842\n",
            "Epoch 7/20\n",
            "28638/28638 [==============================] - 81s 3ms/step - loss: 1.9931 - accuracy: 0.3859\n",
            "Epoch 8/20\n",
            "28638/28638 [==============================] - 89s 3ms/step - loss: 1.9891 - accuracy: 0.3870\n",
            "Epoch 9/20\n",
            "28638/28638 [==============================] - 80s 3ms/step - loss: 1.9873 - accuracy: 0.3874\n",
            "Epoch 10/20\n",
            "28638/28638 [==============================] - 89s 3ms/step - loss: 1.9851 - accuracy: 0.3891\n",
            "Epoch 11/20\n",
            "28638/28638 [==============================] - 85s 3ms/step - loss: 1.9851 - accuracy: 0.3881\n",
            "Epoch 12/20\n",
            "28638/28638 [==============================] - 84s 3ms/step - loss: 1.9835 - accuracy: 0.3898\n",
            "Epoch 13/20\n",
            "28638/28638 [==============================] - 78s 3ms/step - loss: 1.9841 - accuracy: 0.3898\n",
            "Epoch 14/20\n",
            "28638/28638 [==============================] - 83s 3ms/step - loss: 1.9822 - accuracy: 0.3896\n",
            "Epoch 15/20\n",
            "28638/28638 [==============================] - 81s 3ms/step - loss: 1.9818 - accuracy: 0.3910\n",
            "Epoch 16/20\n",
            "28638/28638 [==============================] - 82s 3ms/step - loss: 1.9818 - accuracy: 0.3906\n",
            "Epoch 17/20\n",
            "15492/28638 [===============>..............] - ETA: 36s - loss: 1.9762 - accuracy: 0.3928"
          ]
        }
      ],
      "source": [
        "#one-hot encoding y\n",
        "from keras.utils import np_utils\n",
        "dummy_y = np_utils.to_categorical(y_train)\n",
        "\n",
        "#setting seeds to get reproducible results\n",
        "seed(42)\n",
        "tf.random.set_seed(101)\n",
        "\n",
        "#Changing epsilon value\n",
        "tf.keras.backend.set_epsilon(1e-12)\n",
        "\n",
        "model.compile(loss='categorical_crossentropy', optimizer='rmsprop', metrics=['accuracy'])\n",
        "model.fit(X_train.astype('float16'), dummy_y,batch_size=12, epochs=20)"
      ]
    },
    {
      "cell_type": "markdown",
      "source": [
        "Evaluation"
      ],
      "metadata": {
        "id": "XA_m244Ww5pn"
      }
    },
    {
      "cell_type": "code",
      "source": [
        "from sklearn.metrics import classification_report\n",
        "from numpy import argmax\n",
        "print(classification_report(y_test,argmax(model.predict(X_test.astype('float16')), axis=1) ))"
      ],
      "metadata": {
        "colab": {
          "base_uri": "https://localhost:8080/"
        },
        "id": "yBIEsMEyyGze",
        "outputId": "5d5dcb9c-125f-43e7-f920-aae4e2d4fc94"
      },
      "execution_count": null,
      "outputs": [
        {
          "output_type": "stream",
          "name": "stdout",
          "text": [
            "              precision    recall  f1-score   support\n",
            "\n",
            "           0       0.27      0.22      0.25      2908\n",
            "           1       0.20      0.12      0.15      2917\n",
            "           2       0.31      0.16      0.21      1699\n",
            "           3       0.47      0.77      0.58      6226\n",
            "           4       0.34      0.28      0.31      1751\n",
            "           5       0.30      0.11      0.16      3045\n",
            "           6       0.27      0.44      0.34      4628\n",
            "           7       0.45      0.48      0.46      3016\n",
            "           8       0.26      0.48      0.34      3991\n",
            "           9       0.44      0.36      0.40      1254\n",
            "          10       0.21      0.08      0.11      2079\n",
            "          11       0.32      0.37      0.34      4747\n",
            "          12       0.33      0.24      0.28      3367\n",
            "          13       0.27      0.25      0.26      2902\n",
            "          14       0.56      0.28      0.37      1529\n",
            "          15       0.34      0.08      0.13      1791\n",
            "          16       0.34      0.11      0.17      1038\n",
            "          17       0.20      0.03      0.06      1112\n",
            "\n",
            "    accuracy                           0.34     50000\n",
            "   macro avg       0.33      0.27      0.27     50000\n",
            "weighted avg       0.33      0.34      0.31     50000\n",
            "\n"
          ]
        }
      ]
    },
    {
      "cell_type": "markdown",
      "source": [
        "Save the model"
      ],
      "metadata": {
        "id": "gkTGf6nlw7j4"
      }
    },
    {
      "cell_type": "code",
      "source": [
        "#Save model\n",
        "import pickle\n",
        "pickle.dump(model, open('DL_model.pkl', 'wb'))"
      ],
      "metadata": {
        "colab": {
          "base_uri": "https://localhost:8080/"
        },
        "id": "juYjTMhH3dJx",
        "outputId": "1013c432-4487-410b-822f-89f3e20b6d51"
      },
      "execution_count": null,
      "outputs": [
        {
          "output_type": "stream",
          "name": "stdout",
          "text": [
            "INFO:tensorflow:Assets written to: ram://5a56fc92-1924-4f4c-858a-89318dc7f401/assets\n"
          ]
        }
      ]
    }
  ]
}